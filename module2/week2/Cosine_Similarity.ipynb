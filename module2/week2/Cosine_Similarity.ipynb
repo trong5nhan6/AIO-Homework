{
 "cells": [
  {
   "cell_type": "code",
   "execution_count": 3,
   "metadata": {},
   "outputs": [],
   "source": [
    "import numpy as np"
   ]
  },
  {
   "cell_type": "code",
   "execution_count": 4,
   "metadata": {},
   "outputs": [
    {
     "data": {
      "text/plain": [
       "0.5773502691896257"
      ]
     },
     "execution_count": 4,
     "metadata": {},
     "output_type": "execute_result"
    }
   ],
   "source": [
    "def compute_cosine(v1, v2):\n",
    "    x_dot_y = v1.dot(v2)\n",
    "    x_mul_y = np.linalg.norm(v1) * np.linalg.norm(v2)\n",
    "    cos_sim = x_dot_y / x_mul_y\n",
    "    return cos_sim\n",
    "\n",
    "v1 = np.array([1,2,3,4])\n",
    "v2 = np.array([1,0,3,0])\n",
    "compute_cosine(v1, v2)"
   ]
  }
 ],
 "metadata": {
  "kernelspec": {
   "display_name": "base",
   "language": "python",
   "name": "python3"
  },
  "language_info": {
   "codemirror_mode": {
    "name": "ipython",
    "version": 3
   },
   "file_extension": ".py",
   "mimetype": "text/x-python",
   "name": "python",
   "nbconvert_exporter": "python",
   "pygments_lexer": "ipython3",
   "version": "3.11.7"
  }
 },
 "nbformat": 4,
 "nbformat_minor": 2
}
