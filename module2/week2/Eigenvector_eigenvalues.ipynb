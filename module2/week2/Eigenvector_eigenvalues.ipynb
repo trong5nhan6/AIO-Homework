{
 "cells": [
  {
   "cell_type": "code",
   "execution_count": 1,
   "metadata": {},
   "outputs": [],
   "source": [
    "import numpy as np\n",
    "from numpy import linalg as la"
   ]
  },
  {
   "cell_type": "code",
   "execution_count": 3,
   "metadata": {},
   "outputs": [
    {
     "data": {
      "text/plain": [
       "(array([1. , 0.7]),\n",
       " array([[ 0.89442719, -0.70710678],\n",
       "        [ 0.4472136 ,  0.70710678]]))"
      ]
     },
     "execution_count": 3,
     "metadata": {},
     "output_type": "execute_result"
    }
   ],
   "source": [
    "def compute_eigenvalues_eigenvectors(matrix):\n",
    "    eigenvalues, eigenvectors = la.eig(matrix)\n",
    "    return eigenvalues, eigenvectors\n",
    "\n",
    "matrix = np.array([[0.9, 0.2], [0.1, 0.8]])\n",
    "compute_eigenvalues_eigenvectors(matrix)"
   ]
  }
 ],
 "metadata": {
  "kernelspec": {
   "display_name": "base",
   "language": "python",
   "name": "python3"
  },
  "language_info": {
   "codemirror_mode": {
    "name": "ipython",
    "version": 3
   },
   "file_extension": ".py",
   "mimetype": "text/x-python",
   "name": "python",
   "nbconvert_exporter": "python",
   "pygments_lexer": "ipython3",
   "version": "3.11.7"
  }
 },
 "nbformat": 4,
 "nbformat_minor": 2
}
