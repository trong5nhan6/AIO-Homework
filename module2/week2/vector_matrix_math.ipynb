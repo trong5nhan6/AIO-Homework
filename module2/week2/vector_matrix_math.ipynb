{
 "cells": [
  {
   "cell_type": "code",
   "execution_count": 8,
   "metadata": {},
   "outputs": [],
   "source": [
    "import numpy as np"
   ]
  },
  {
   "cell_type": "code",
   "execution_count": 14,
   "metadata": {},
   "outputs": [
    {
     "data": {
      "text/plain": [
       "5.477225575051661"
      ]
     },
     "execution_count": 14,
     "metadata": {},
     "output_type": "execute_result"
    }
   ],
   "source": [
    "def compute_vector_length(vector):\n",
    "    return np.sum(vector**2)**0.5\n",
    "\n",
    "vector = np.array([1,2,3,4])\n",
    "compute_vector_length(vector)"
   ]
  },
  {
   "cell_type": "code",
   "execution_count": 16,
   "metadata": {},
   "outputs": [
    {
     "data": {
      "text/plain": [
       "40"
      ]
     },
     "execution_count": 16,
     "metadata": {},
     "output_type": "execute_result"
    }
   ],
   "source": [
    "def compute_dot_product(vector1, vector2):\n",
    "    result = np.sum(vector1 * vector2)\n",
    "    return result\n",
    "\n",
    "vector1 = np.array([1,2,3,4])\n",
    "vector2 = np.array([2,3,4,5])\n",
    "compute_dot_product(vector1, vector2)"
   ]
  },
  {
   "cell_type": "code",
   "execution_count": 18,
   "metadata": {},
   "outputs": [
    {
     "data": {
      "text/plain": [
       "array([ 6,  9, 12])"
      ]
     },
     "execution_count": 18,
     "metadata": {},
     "output_type": "execute_result"
    }
   ],
   "source": [
    "def matrix_multi_vector(matrix , vector):\n",
    "    result = matrix.dot(vector)\n",
    "    return result\n",
    "\n",
    "matrix = np.array([[1,2,3], [2,3,4], [3,4,5]])\n",
    "vector = np.array([1,1,1])\n",
    "matrix_multi_vector(matrix , vector)"
   ]
  },
  {
   "cell_type": "code",
   "execution_count": 21,
   "metadata": {},
   "outputs": [
    {
     "data": {
      "text/plain": [
       "array([[-9, -3],\n",
       "       [-9, -4],\n",
       "       [-9, -5]])"
      ]
     },
     "execution_count": 21,
     "metadata": {},
     "output_type": "execute_result"
    }
   ],
   "source": [
    "def matrix_multi_matrix(matrix1, matrix2):\n",
    "    len_of_vector = matrix1.dot(matrix2)\n",
    "    return len_of_vector\n",
    "\n",
    "matrix1 = np.array([[1,2,3], [2,3,4], [3,4,5]])\n",
    "matrix2 = np.array([[4,-1], [1,2], [-5,-2]])\n",
    "matrix_multi_matrix(matrix1, matrix2)\n"
   ]
  },
  {
   "cell_type": "code",
   "execution_count": 13,
   "metadata": {},
   "outputs": [
    {
     "data": {
      "text/plain": [
       "array([[0.1 , 0.15],\n",
       "       [0.2 , 0.05]])"
      ]
     },
     "execution_count": 13,
     "metadata": {},
     "output_type": "execute_result"
    }
   ],
   "source": [
    "def inverse_matrix(matrix):\n",
    "    result = np.linalg.inv(matrix)\n",
    "    return result\n",
    "\n",
    "matrix = np.array([[-2,6], [8,-4]])\n",
    "inverse_matrix(matrix)"
   ]
  }
 ],
 "metadata": {
  "kernelspec": {
   "display_name": "base",
   "language": "python",
   "name": "python3"
  },
  "language_info": {
   "codemirror_mode": {
    "name": "ipython",
    "version": 3
   },
   "file_extension": ".py",
   "mimetype": "text/x-python",
   "name": "python",
   "nbconvert_exporter": "python",
   "pygments_lexer": "ipython3",
   "version": "3.11.7"
  }
 },
 "nbformat": 4,
 "nbformat_minor": 2
}
